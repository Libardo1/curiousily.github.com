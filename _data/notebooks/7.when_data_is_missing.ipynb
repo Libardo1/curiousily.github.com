{
 "cells": [
  {
   "cell_type": "markdown",
   "metadata": {},
   "source": [
    "Let's begin by you trying to watch this video:\n",
    "\n",
    "<div class=\"center\">\n",
    "    <iframe width=\"100%\" height=\"360\" src=\"https://www.youtube.com/watch?v=SyWydWLmszE\" frameborder=\"0\" allowfullscreen></iframe>\n",
    "</div>\n",
    "\n",
    "This video has 300k+ views with around 1.6k positive reactions. It might be worth watching, considering it is in some cryptic foreign language (Know Bulgarian? That's how it feels to have some serious superpowers!). But you have a problem, right? You don't know what the video is all about!\n",
    "\n",
    "Well, you are missing some data. In your case, subtitles might be a good start. However, knowing the language, experiencing the emotions that the actor is trying to convey might be much better! So, it is not enough to have some data, it is best to have the real thing."
   ]
  },
  {
   "cell_type": "markdown",
   "metadata": {},
   "source": [
    "# 1. Problem definition"
   ]
  },
  {
   "cell_type": "markdown",
   "metadata": {},
   "source": [
    "Let's try to translate the problem into R\n",
    "\n",
    "Let's say we are trying to find the mean weight of all women in New York City. We weight 1000 women and write down their weights. The first 5 begin as follows:"
   ]
  },
  {
   "cell_type": "code",
   "execution_count": 10,
   "metadata": {
    "collapsed": true
   },
   "outputs": [],
   "source": [
    "weights <- c(55.4, 48.5, 58.5, 63.4, 67.4)"
   ]
  },
  {
   "cell_type": "markdown",
   "metadata": {},
   "source": [
    "We can easily get the mean of that sample:"
   ]
  },
  {
   "cell_type": "code",
   "execution_count": 12,
   "metadata": {
    "collapsed": false
   },
   "outputs": [
    {
     "data": {
      "text/html": [
       "58.64"
      ],
      "text/latex": [
       "58.64"
      ],
      "text/markdown": [
       "58.64"
      ],
      "text/plain": [
       "[1] 58.64"
      ]
     },
     "metadata": {},
     "output_type": "display_data"
    }
   ],
   "source": [
    "mean(weights_sample)"
   ]
  },
  {
   "cell_type": "markdown",
   "metadata": {},
   "source": [
    "But let's say that the last value was missing and we are trying to get the mean of the sample:"
   ]
  },
  {
   "cell_type": "code",
   "execution_count": 15,
   "metadata": {
    "collapsed": false
   },
   "outputs": [
    {
     "data": {
      "text/plain": [
       "[1] NA"
      ]
     },
     "metadata": {},
     "output_type": "display_data"
    }
   ],
   "source": [
    "weights_missing <- c(55.4, 48.5, 58.5, 63.4, NA)\n",
    "mean(weights_missing)"
   ]
  },
  {
   "cell_type": "markdown",
   "metadata": {},
   "source": [
    "Huh? The result is undefined. What did you expect? Can we hack our way around this? Of course, let's be sneaky and just ignore the missing value."
   ]
  },
  {
   "cell_type": "code",
   "execution_count": 16,
   "metadata": {
    "collapsed": false
   },
   "outputs": [
    {
     "data": {
      "text/html": [
       "56.45"
      ],
      "text/latex": [
       "56.45"
      ],
      "text/markdown": [
       "56.45"
      ],
      "text/plain": [
       "[1] 56.45"
      ]
     },
     "metadata": {},
     "output_type": "display_data"
    }
   ],
   "source": [
    "mean(weights_missing, na.rm = TRUE)"
   ]
  },
  {
   "cell_type": "markdown",
   "metadata": {},
   "source": [
    "Yep, we've done it! Good job! And this is the end of the post. Or is it?\n",
    "\n",
    "Just imagine this title in your favorite newspaper tomorrow morning:\n",
    "\n",
    "\"Scientists found that the average weight of a woman in New York City is 56.45 kilograms\"\n",
    "\n",
    "Is this correct? Can we just ignore the values that are missing? And the answer is - it depends."
   ]
  },
  {
   "cell_type": "markdown",
   "metadata": {},
   "source": [
    "# 2. Come on, this can't be that hard!"
   ]
  },
  {
   "cell_type": "markdown",
   "metadata": {},
   "source": [
    "So, what is the best way to handle missing data? As [Orchard and Woodbury (1972, p. 697)](#cite-orchard1972missing) remarked:\n",
    "\n",
    "`Obviously, the best way to treat missing data is not to have them.`\n",
    "\n",
    "Of course, they knew that this was impossible ideal to achieve in practice.\n",
    "\n",
    "[Allison (2002, p. 1)](#cite-allison2001missing) observed that:\n",
    "\n",
    "`Sooner or later (usually sooner), anyone who does statistical analysis runs into problems with missing data.`\n",
    "\n",
    "So, how should we deal with this?"
   ]
  },
  {
   "cell_type": "markdown",
   "metadata": {},
   "source": [
    "## 2.1 MCAR, MAR and MNAR"
   ]
  },
  {
   "cell_type": "markdown",
   "metadata": {},
   "source": [
    "Before answering the question above we have to familiarize ourselves with the strange terms described above.\n",
    "\n",
    "[Rubin (1976)](#cite-rubin1976inference) defined three categories of missing data problems. He stated that every data point has some probability of being missing. What defines those probabilities is a process called the missing data mechanism or response mechanism. A model for this process is called missing data model or response model."
   ]
  },
  {
   "cell_type": "markdown",
   "metadata": {},
   "source": [
    "### 2.1.1 MCAR"
   ]
  },
  {
   "cell_type": "markdown",
   "metadata": {},
   "source": [
    "When the probability of a data point being missing is the same, the data are said to be missing completely at random (MCAR). For example, let's say we go to every woman in NYC, flip a coin and weight her only if the coin show heads. Each data point in this will have the same probability of being missing, e.g. the probability of the coin landing heads."
   ]
  },
  {
   "cell_type": "markdown",
   "metadata": {},
   "source": [
    "### 2.1.2 MAR"
   ]
  },
  {
   "cell_type": "markdown",
   "metadata": {},
   "source": [
    "If the probability of being missing is the same only within the groups defined by the observed data, then the data are missing at random (MAR). Let's take our previous example and modify it a bit. Let's say we weigh only women that are between 30 and 40 years of age.\n",
    "\n",
    "MAR is a generalization of MCAR. Thus, much more useful in practice."
   ]
  },
  {
   "cell_type": "markdown",
   "metadata": {},
   "source": [
    "### 2.1.3 MNAR (or NMAR)"
   ]
  },
  {
   "cell_type": "markdown",
   "metadata": {},
   "source": [
    "You might already know what this category represents. Missing not at random (or Not missing at random) means that the probability of being missing is unknown. For example, the heavier ladies from the example above might not be so eager to weigh themselves, but this might not be known by us.\n",
    "\n",
    "MNAR is really hard to handle in practice. Strategies to handle this case include finding the cause of missing data or provide hypothesis (what-if analysis) and see how sensitive the results are."
   ]
  },
  {
   "cell_type": "markdown",
   "metadata": {},
   "source": [
    "## 2.2 Simple fixes"
   ]
  },
  {
   "cell_type": "markdown",
   "metadata": {},
   "source": [
    "### 2.2.1 Listwise deletion"
   ]
  },
  {
   "cell_type": "markdown",
   "metadata": {},
   "source": [
    "Just delete the rows that have missing data. It is a really convenient way to handle the issue. Under MCAR this might be an ok thing to do. However, [Schafer and Graham (2002)](#cite-schafer2002missing) demonstrated using an elegant simulation the bias of listwise deletion under MAR and MNAR."
   ]
  },
  {
   "cell_type": "markdown",
   "metadata": {},
   "source": [
    "### 2.2.2 Pairwise deletion (Available-case analysis)"
   ]
  },
  {
   "cell_type": "markdown",
   "metadata": {},
   "source": [
    "This method tries to be a bit smarter than listwise deletion. Pairwise deletion works by calculating the means and (co)variances on all observed data. Given two variables $X$ and $Y$, the mean of $X$ is based on the observed $X$ values, the same goes for $Y$. To calculate correlation and covariance, pairwise deletion takes all data rows where $X$ and $Y$ are present."
   ]
  },
  {
   "cell_type": "code",
   "execution_count": 32,
   "metadata": {
    "collapsed": false
   },
   "outputs": [],
   "source": [
    "library(tidyverse)\n",
    "\n",
    "heights_missing <- c(171, 165, NA, 173, 172)\n",
    "df <- tibble(heights = heights_missing, weights = weights_missing)"
   ]
  },
  {
   "cell_type": "code",
   "execution_count": 46,
   "metadata": {
    "collapsed": false
   },
   "outputs": [
    {
     "data": {
      "text/html": [
       "<dl>\n",
       "\t<dt>$heights</dt>\n",
       "\t\t<dd>170.25</dd>\n",
       "\t<dt>$weights</dt>\n",
       "\t\t<dd>56.45</dd>\n",
       "</dl>\n"
      ],
      "text/latex": [
       "\\begin{description}\n",
       "\\item[\\$heights] 170.25\n",
       "\\item[\\$weights] 56.45\n",
       "\\end{description}\n"
      ],
      "text/markdown": [
       "$heights\n",
       ":   170.25\n",
       "$weights\n",
       ":   56.45\n",
       "\n",
       "\n"
      ],
      "text/plain": [
       "$heights\n",
       "[1] 170.25\n",
       "\n",
       "$weights\n",
       "[1] 56.45\n"
      ]
     },
     "metadata": {},
     "output_type": "display_data"
    }
   ],
   "source": [
    "lapply(df, mean, na.rm = T)"
   ]
  },
  {
   "cell_type": "code",
   "execution_count": 42,
   "metadata": {
    "collapsed": false
   },
   "outputs": [
    {
     "data": {
      "text/html": [
       "<table>\n",
       "<thead><tr><th></th><th scope=col>heights</th><th scope=col>weights</th></tr></thead>\n",
       "<tbody>\n",
       "\t<tr><th scope=row>heights</th><td>1.0000000</td><td>0.9480866</td></tr>\n",
       "\t<tr><th scope=row>weights</th><td>0.9480866</td><td>1.0000000</td></tr>\n",
       "</tbody>\n",
       "</table>\n"
      ],
      "text/latex": [
       "\\begin{tabular}{r|ll}\n",
       "  & heights & weights\\\\\n",
       "\\hline\n",
       "\theights & 1.0000000 & 0.9480866\\\\\n",
       "\tweights & 0.9480866 & 1.0000000\\\\\n",
       "\\end{tabular}\n"
      ],
      "text/markdown": [
       "1. 1\n",
       "2. 0.948086561056907\n",
       "3. 0.948086561056907\n",
       "4. 1\n",
       "\n",
       "\n"
      ],
      "text/plain": [
       "        heights   weights  \n",
       "heights 1.0000000 0.9480866\n",
       "weights 0.9480866 1.0000000"
      ]
     },
     "metadata": {},
     "output_type": "display_data"
    }
   ],
   "source": [
    "cor(df, use = \"pair\")"
   ]
  },
  {
   "cell_type": "code",
   "execution_count": 43,
   "metadata": {
    "collapsed": false
   },
   "outputs": [
    {
     "data": {
      "text/html": [
       "<table>\n",
       "<thead><tr><th></th><th scope=col>heights</th><th scope=col>weights</th></tr></thead>\n",
       "<tbody>\n",
       "\t<tr><th scope=row>heights</th><td>12.91667</td><td>29.43333</td></tr>\n",
       "\t<tr><th scope=row>weights</th><td>29.43333</td><td>38.93667</td></tr>\n",
       "</tbody>\n",
       "</table>\n"
      ],
      "text/latex": [
       "\\begin{tabular}{r|ll}\n",
       "  & heights & weights\\\\\n",
       "\\hline\n",
       "\theights & 12.91667 & 29.43333\\\\\n",
       "\tweights & 29.43333 & 38.93667\\\\\n",
       "\\end{tabular}\n"
      ],
      "text/markdown": [
       "1. 12.9166666666667\n",
       "2. 29.4333333333333\n",
       "3. 29.4333333333333\n",
       "4. 38.9366666666667\n",
       "\n",
       "\n"
      ],
      "text/plain": [
       "        heights  weights \n",
       "heights 12.91667 29.43333\n",
       "weights 29.43333 38.93667"
      ]
     },
     "metadata": {},
     "output_type": "display_data"
    }
   ],
   "source": [
    "cov(df, use = \"pair\")"
   ]
  },
  {
   "cell_type": "markdown",
   "metadata": {},
   "source": [
    "This method is an easy way to compute the mean, correlations, and covariances under MCAR. However, the estimates can be biased when the data is not MCAR.\n",
    "\n",
    "The big selling point of pairwise deletion is that it tries to use all available data."
   ]
  },
  {
   "cell_type": "markdown",
   "metadata": {},
   "source": [
    "### 2.2.3 Mean imputation"
   ]
  },
  {
   "cell_type": "markdown",
   "metadata": {},
   "source": [
    "This one is real simple. Replace every missing value by the mean. Let's try it:"
   ]
  },
  {
   "cell_type": "code",
   "execution_count": 51,
   "metadata": {
    "collapsed": false
   },
   "outputs": [
    {
     "name": "stdout",
     "output_type": "stream",
     "text": [
      "\n",
      " iter imp variable\n",
      "  1   1  heights  weights\n"
     ]
    }
   ],
   "source": [
    "library(mice)\n",
    "\n",
    "imputed <- mice(df, method = \"mean\", m = 1, maxit = 1)"
   ]
  },
  {
   "cell_type": "code",
   "execution_count": 64,
   "metadata": {
    "collapsed": false
   },
   "outputs": [
    {
     "data": {
      "text/html": [
       "<table>\n",
       "<thead><tr><th scope=col>heights</th><th scope=col>weights</th></tr></thead>\n",
       "<tbody>\n",
       "\t<tr><td>171.00</td><td>55.40 </td></tr>\n",
       "\t<tr><td>165.00</td><td>48.50 </td></tr>\n",
       "\t<tr><td>170.25</td><td>58.50 </td></tr>\n",
       "\t<tr><td>173.00</td><td>63.40 </td></tr>\n",
       "\t<tr><td>172.00</td><td>56.45 </td></tr>\n",
       "</tbody>\n",
       "</table>\n"
      ],
      "text/latex": [
       "\\begin{tabular}{r|ll}\n",
       " heights & weights\\\\\n",
       "\\hline\n",
       "\t 171.00 & 55.40 \\\\\n",
       "\t 165.00 & 48.50 \\\\\n",
       "\t 170.25 & 58.50 \\\\\n",
       "\t 173.00 & 63.40 \\\\\n",
       "\t 172.00 & 56.45 \\\\\n",
       "\\end{tabular}\n"
      ],
      "text/plain": [
       "  heights weights\n",
       "1 171.00  55.40  \n",
       "2 165.00  48.50  \n",
       "3 170.25  58.50  \n",
       "4 173.00  63.40  \n",
       "5 172.00  56.45  "
      ]
     },
     "metadata": {},
     "output_type": "display_data"
    }
   ],
   "source": [
    "completed <- complete(imputed, 1)\n",
    "completed"
   ]
  },
  {
   "cell_type": "markdown",
   "metadata": {},
   "source": [
    "Let's have another look at the initial data and the correlations:"
   ]
  },
  {
   "cell_type": "code",
   "execution_count": 65,
   "metadata": {
    "collapsed": false
   },
   "outputs": [
    {
     "data": {
      "text/html": [
       "<table>\n",
       "<thead><tr><th scope=col>heights</th><th scope=col>weights</th></tr></thead>\n",
       "<tbody>\n",
       "\t<tr><td>171 </td><td>55.4</td></tr>\n",
       "\t<tr><td>165 </td><td>48.5</td></tr>\n",
       "\t<tr><td> NA </td><td>58.5</td></tr>\n",
       "\t<tr><td>173 </td><td>63.4</td></tr>\n",
       "\t<tr><td>172 </td><td>  NA</td></tr>\n",
       "</tbody>\n",
       "</table>\n"
      ],
      "text/latex": [
       "\\begin{tabular}{r|ll}\n",
       " heights & weights\\\\\n",
       "\\hline\n",
       "\t 171  & 55.4\\\\\n",
       "\t 165  & 48.5\\\\\n",
       "\t  NA  & 58.5\\\\\n",
       "\t 173  & 63.4\\\\\n",
       "\t 172  &   NA\\\\\n",
       "\\end{tabular}\n"
      ],
      "text/plain": [
       "  heights weights\n",
       "1 171     55.4   \n",
       "2 165     48.5   \n",
       "3  NA     58.5   \n",
       "4 173     63.4   \n",
       "5 172       NA   "
      ]
     },
     "metadata": {},
     "output_type": "display_data"
    }
   ],
   "source": [
    "df"
   ]
  },
  {
   "cell_type": "code",
   "execution_count": 70,
   "metadata": {
    "collapsed": false
   },
   "outputs": [
    {
     "data": {
      "text/html": [
       "<table>\n",
       "<thead><tr><th></th><th scope=col>heights</th><th scope=col>weights</th></tr></thead>\n",
       "<tbody>\n",
       "\t<tr><th scope=row>heights</th><td>1.0000000</td><td>0.9480866</td></tr>\n",
       "\t<tr><th scope=row>weights</th><td>0.9480866</td><td>1.0000000</td></tr>\n",
       "</tbody>\n",
       "</table>\n"
      ],
      "text/latex": [
       "\\begin{tabular}{r|ll}\n",
       "  & heights & weights\\\\\n",
       "\\hline\n",
       "\theights & 1.0000000 & 0.9480866\\\\\n",
       "\tweights & 0.9480866 & 1.0000000\\\\\n",
       "\\end{tabular}\n"
      ],
      "text/markdown": [
       "1. 1\n",
       "2. 0.948086561056907\n",
       "3. 0.948086561056907\n",
       "4. 1\n",
       "\n",
       "\n"
      ],
      "text/plain": [
       "        heights   weights  \n",
       "heights 1.0000000 0.9480866\n",
       "weights 0.9480866 1.0000000"
      ]
     },
     "metadata": {},
     "output_type": "display_data"
    }
   ],
   "source": [
    "cor(df, use = \"pair\")"
   ]
  },
  {
   "cell_type": "code",
   "execution_count": 69,
   "metadata": {
    "collapsed": false
   },
   "outputs": [
    {
     "data": {
      "text/html": [
       "<table>\n",
       "<thead><tr><th></th><th scope=col>heights</th><th scope=col>weights</th></tr></thead>\n",
       "<tbody>\n",
       "\t<tr><th scope=row>heights</th><td>1.0000000</td><td>0.8927452</td></tr>\n",
       "\t<tr><th scope=row>weights</th><td>0.8927452</td><td>1.0000000</td></tr>\n",
       "</tbody>\n",
       "</table>\n"
      ],
      "text/latex": [
       "\\begin{tabular}{r|ll}\n",
       "  & heights & weights\\\\\n",
       "\\hline\n",
       "\theights & 1.0000000 & 0.8927452\\\\\n",
       "\tweights & 0.8927452 & 1.0000000\\\\\n",
       "\\end{tabular}\n"
      ],
      "text/markdown": [
       "1. 1\n",
       "2. 0.892745232508658\n",
       "3. 0.892745232508658\n",
       "4. 1\n",
       "\n",
       "\n"
      ],
      "text/plain": [
       "        heights   weights  \n",
       "heights 1.0000000 0.8927452\n",
       "weights 0.8927452 1.0000000"
      ]
     },
     "metadata": {},
     "output_type": "display_data"
    }
   ],
   "source": [
    "cor(completed, use = \"pair\")"
   ]
  },
  {
   "cell_type": "markdown",
   "metadata": {},
   "source": [
    "The correlations are different. That's no good. Granted, this is a bit contrived example, but you can see how this can happen in the real world.\n",
    "\n",
    "Mean imputation offers a simple and fast fix for missing data. However, it will bias any estimate other than the mean when data are not MCAR."
   ]
  },
  {
   "cell_type": "markdown",
   "metadata": {},
   "source": [
    "### 2.2.4 Stochastic regression imputation"
   ]
  },
  {
   "cell_type": "markdown",
   "metadata": {},
   "source": [
    "This method creates regression model and uses it for completing missing values. Additionally, it adds noise to the predictions, thus reducing the correlation between the variables. Let's have a look:"
   ]
  },
  {
   "cell_type": "code",
   "execution_count": 71,
   "metadata": {
    "collapsed": false
   },
   "outputs": [
    {
     "name": "stdout",
     "output_type": "stream",
     "text": [
      "\n",
      " iter imp variable\n",
      "  1   1  heights  weights\n"
     ]
    }
   ],
   "source": [
    "imputed <- mice(df, method = \"norm.nob\", m = 1, maxit = 1, seed = 42)"
   ]
  },
  {
   "cell_type": "markdown",
   "metadata": {},
   "source": [
    "`method = \"norm.nob\"` tells `mice` to use the stochastic regression method."
   ]
  },
  {
   "cell_type": "code",
   "execution_count": 72,
   "metadata": {
    "collapsed": false
   },
   "outputs": [
    {
     "data": {
      "text/html": [
       "<table>\n",
       "<thead><tr><th scope=col>heights</th><th scope=col>weights</th></tr></thead>\n",
       "<tbody>\n",
       "\t<tr><td>171.0000</td><td>55.40000</td></tr>\n",
       "\t<tr><td>165.0000</td><td>48.50000</td></tr>\n",
       "\t<tr><td>169.3624</td><td>58.50000</td></tr>\n",
       "\t<tr><td>173.0000</td><td>63.40000</td></tr>\n",
       "\t<tr><td>172.0000</td><td>61.86775</td></tr>\n",
       "</tbody>\n",
       "</table>\n"
      ],
      "text/latex": [
       "\\begin{tabular}{r|ll}\n",
       " heights & weights\\\\\n",
       "\\hline\n",
       "\t 171.0000 & 55.40000\\\\\n",
       "\t 165.0000 & 48.50000\\\\\n",
       "\t 169.3624 & 58.50000\\\\\n",
       "\t 173.0000 & 63.40000\\\\\n",
       "\t 172.0000 & 61.86775\\\\\n",
       "\\end{tabular}\n"
      ],
      "text/plain": [
       "  heights  weights \n",
       "1 171.0000 55.40000\n",
       "2 165.0000 48.50000\n",
       "3 169.3624 58.50000\n",
       "4 173.0000 63.40000\n",
       "5 172.0000 61.86775"
      ]
     },
     "metadata": {},
     "output_type": "display_data"
    }
   ],
   "source": [
    "completed <- complete(imputed, 1)\n",
    "completed"
   ]
  },
  {
   "cell_type": "code",
   "execution_count": 73,
   "metadata": {
    "collapsed": false
   },
   "outputs": [
    {
     "data": {
      "text/html": [
       "<table>\n",
       "<thead><tr><th></th><th scope=col>heights</th><th scope=col>weights</th></tr></thead>\n",
       "<tbody>\n",
       "\t<tr><th scope=row>heights</th><td>1.0000000</td><td>0.9480866</td></tr>\n",
       "\t<tr><th scope=row>weights</th><td>0.9480866</td><td>1.0000000</td></tr>\n",
       "</tbody>\n",
       "</table>\n"
      ],
      "text/latex": [
       "\\begin{tabular}{r|ll}\n",
       "  & heights & weights\\\\\n",
       "\\hline\n",
       "\theights & 1.0000000 & 0.9480866\\\\\n",
       "\tweights & 0.9480866 & 1.0000000\\\\\n",
       "\\end{tabular}\n"
      ],
      "text/markdown": [
       "1. 1\n",
       "2. 0.948086561056907\n",
       "3. 0.948086561056907\n",
       "4. 1\n",
       "\n",
       "\n"
      ],
      "text/plain": [
       "        heights   weights  \n",
       "heights 1.0000000 0.9480866\n",
       "weights 0.9480866 1.0000000"
      ]
     },
     "metadata": {},
     "output_type": "display_data"
    }
   ],
   "source": [
    "cor(df, use = \"pair\")"
   ]
  },
  {
   "cell_type": "code",
   "execution_count": 74,
   "metadata": {
    "collapsed": false
   },
   "outputs": [
    {
     "data": {
      "text/html": [
       "<table>\n",
       "<thead><tr><th></th><th scope=col>heights</th><th scope=col>weights</th></tr></thead>\n",
       "<tbody>\n",
       "\t<tr><th scope=row>heights</th><td>1.0000000</td><td>0.9240839</td></tr>\n",
       "\t<tr><th scope=row>weights</th><td>0.9240839</td><td>1.0000000</td></tr>\n",
       "</tbody>\n",
       "</table>\n"
      ],
      "text/latex": [
       "\\begin{tabular}{r|ll}\n",
       "  & heights & weights\\\\\n",
       "\\hline\n",
       "\theights & 1.0000000 & 0.9240839\\\\\n",
       "\tweights & 0.9240839 & 1.0000000\\\\\n",
       "\\end{tabular}\n"
      ],
      "text/markdown": [
       "1. 1\n",
       "2. 0.92408389795138\n",
       "3. 0.92408389795138\n",
       "4. 1\n",
       "\n",
       "\n"
      ],
      "text/plain": [
       "        heights   weights  \n",
       "heights 1.0000000 0.9240839\n",
       "weights 0.9240839 1.0000000"
      ]
     },
     "metadata": {},
     "output_type": "display_data"
    }
   ],
   "source": [
    "cor(completed, use = \"pair\")"
   ]
  },
  {
   "cell_type": "markdown",
   "metadata": {},
   "source": [
    "Now, this is better. Stochastic regression imputation is a nice step in the right direction, but it does not solve all our problems. However, the idea of using other variable values is fundamental for more advanced techniques."
   ]
  },
  {
   "cell_type": "markdown",
   "metadata": {},
   "source": [
    "# 3. Where to go from here?"
   ]
  },
  {
   "cell_type": "markdown",
   "metadata": {},
   "source": [
    "A couple of big questions remains still open. How can we tell if the imputation is good? Can we improve on those simple methods? Let's try to answer those in the next post."
   ]
  },
  {
   "cell_type": "markdown",
   "metadata": {},
   "source": [
    "<!--bibtex\n",
    "\n",
    "@inproceedings{orchard1972missing,\n",
    "  title={A missing information principle: theory and applications},\n",
    "  author={Orchard, Terence and Woodbury, Max A and others},\n",
    "  booktitle={Proceedings of the 6th Berkeley Symposium on mathematical statistics and probability},\n",
    "  volume={1},\n",
    "  pages={697--715},\n",
    "  year={1972},\n",
    "  organization={University of California Press Berkeley, CA}\n",
    "}\n",
    "\n",
    "@book{allison2001missing,\n",
    "  title={Missing data},\n",
    "  author={Allison, Paul D},\n",
    "  volume={136},\n",
    "  year={2001},\n",
    "  publisher={Sage publications}\n",
    "}\n",
    "\n",
    "@article{rubin1976inference,\n",
    "  title={Inference and missing data},\n",
    "  author={Rubin, Donald B},\n",
    "  journal={Biometrika},\n",
    "  volume={63},\n",
    "  number={3},\n",
    "  pages={581--592},\n",
    "  year={1976},\n",
    "  publisher={Biometrika Trust}\n",
    "}\n",
    "\n",
    "@article{schafer2002missing,\n",
    "  title={Missing data: our view of the state of the art.},\n",
    "  author={Schafer, Joseph L and Graham, John W},\n",
    "  journal={Psychological methods},\n",
    "  volume={7},\n",
    "  number={2},\n",
    "  pages={147},\n",
    "  year={2002},\n",
    "  publisher={American Psychological Association}\n",
    "}\n",
    "\n",
    "-->"
   ]
  },
  {
   "cell_type": "markdown",
   "metadata": {},
   "source": [
    "# References\n",
    "\n",
    "<a name=\"cite-orchard1972missing\"/><sup>[^](#ref-1) </sup>Orchard, Terence and Woodbury, Max A and others. 1972. _A missing information principle: theory and applications_.\n",
    "\n",
    "<a name=\"cite-allison2001missing\"/><sup>[^](#ref-2) </sup>Allison, Paul D. 2001. _Missing data_.\n",
    "\n",
    "<a name=\"cite-rubin1976inference\"/><sup>[^](#ref-3) </sup>Rubin, Donald B. 1976. _Inference and missing data_.\n",
    "\n",
    "<a name=\"cite-schafer2002missing\"/><sup>[^](#ref-4) </sup>Schafer, Joseph L and Graham, John W. 2002. _Missing data: our view of the state of the art._.\n",
    "\n"
   ]
  }
 ],
 "metadata": {
  "kernelspec": {
   "display_name": "R",
   "language": "R",
   "name": "ir"
  },
  "language_info": {
   "codemirror_mode": "r",
   "file_extension": ".r",
   "mimetype": "text/x-r-source",
   "name": "R",
   "pygments_lexer": "r",
   "version": "3.3.0"
  }
 },
 "nbformat": 4,
 "nbformat_minor": 2
}
