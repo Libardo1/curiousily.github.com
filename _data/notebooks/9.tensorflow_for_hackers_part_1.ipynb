{
 "cells": [
  {
   "cell_type": "markdown",
   "metadata": {},
   "source": [
    "The ONLY way to understand TensorFlow is by watching the following video:\n",
    "\n",
    "<iframe width=\"560\" height=\"315\" src=\"https://www.youtube.com/embed/N_X9fPauWfI\" frameborder=\"0\" allowfullscreen></iframe>\n",
    "\n",
    "Now, I can safely assume that we are at the same level of understanding. Ready to fire up some tensors?\n",
    "\n",
    "# What is TensorFlow?\n",
    "\n",
    "TensorFlow is a library for number crunching created and maintained by Google. It's used mainly for machine learning (especially deep learning) tasks. While still in beta (version 1.0 is currently in alpha), the library was open sourced more than a year ago (November 9, 2015). Since then it pretty much took the Deep Learning (DL) community by a storm. Tons of companies are using it in production, also. The best place to learn more is the official page of [TensorFlow](https://www.tensorflow.org/).\n",
    "\n",
    "On the more technical side, TensorFlow allows you to do computations on your PC/Mac (CPU & GPU), Android, iOS and lots more places. Of course, being created by Google, it aims to bring massive parallelism to your backprop musings. The main abstraction behind all the magic is [stateful dataflow graphs](https://arxiv.org/pdf/1603.04467.pdf).\n",
    "\n",
    "![Sample dataflow graph](https://www.tensorflow.org/images/tensors_flowing.gif)\n",
    "\n",
    "## Eh, Tensors?\n",
    "\n",
    "The [glossary](https://www.tensorflow.org/resources/glossary#glossary) of TensorFlow states that a tensor is:\n",
    "\n",
    "> A Tensor is a typed multi-dimensional array. For example, a 4-D array of floating point numbers representing a mini-batch of images with dimensions [batch, height, width, channel].\n",
    "\n",
    "So, you can think of a tensor as a matrix on steroids - expanded to $n$ more dimensions. The concept might feel a bit strange at first, but don't worry it will come around eventually.\n",
    "\n",
    "# Installing TensorFlow\n",
    "\n",
    "If you want basic installation without all the fuss, just do this:\n",
    "\n",
    "``` \n",
    "pip install tensorflow \n",
    "```\n",
    "\n",
    "Or install it with GPU support:\n",
    "\n",
    "``` \n",
    "pip install tensorflow-gpu\n",
    "```\n",
    "\n",
    "Otherwise, you might have a look [here](https://www.tensorflow.org/get_started/os_setup) if you want to build from source (might need this if you want to support custom cuDNN version) or whatever.\n",
    "\n",
    "## Check your setup\n",
    "\n",
    "Now that you have everything installed. Let's check that we can import TensorFlow."
   ]
  },
  {
   "cell_type": "code",
   "execution_count": 13,
   "metadata": {
    "collapsed": false
   },
   "outputs": [],
   "source": [
    "import tensorflow as tf\n",
    "import numpy as np\n",
    "import matplotlib.pyplot as plt\n",
    "%matplotlib inline"
   ]
  },
  {
   "cell_type": "code",
   "execution_count": 14,
   "metadata": {
    "collapsed": false
   },
   "outputs": [
    {
     "data": {
      "text/plain": [
       "'1.0.0-alpha'"
      ]
     },
     "execution_count": 14,
     "metadata": {},
     "output_type": "execute_result"
    }
   ],
   "source": [
    "tf.__version__"
   ]
  },
  {
   "cell_type": "markdown",
   "metadata": {},
   "source": [
    "Success! As you can see, I am using version 1.0 alpha. Let's get those tensors flowing.\n",
    "\n",
    "# Bringing the big guns\n",
    "\n",
    "Writing TensorFlow code might require some getting use to at first. There are some concepts that you must familiarize yourself with.\n",
    "\n",
    "## Variables\n",
    "\n",
    "Variables are pretty standard stuff. You just have to remember one thing - define them before using them in the computational graph.\n",
    "\n",
    "## Placeholders\n",
    "\n",
    "Placeholders are used to feed in data from outside the computational graph. So, if you need to pass data to the model from outside TensorFlow, you have to define a placeholder. Each placeholder must specify a data type. You specify your data using `feed_dict` when running your computation.\n",
    "\n",
    "## Session\n",
    "\n",
    "In order to run any meaningful operation on your graph, you need a Session. In sessions, we trust (not cookies), most of the time. Here is a short example:"
   ]
  },
  {
   "cell_type": "code",
   "execution_count": 111,
   "metadata": {
    "collapsed": false
   },
   "outputs": [
    {
     "name": "stdout",
     "output_type": "stream",
     "text": [
      "5.0\n"
     ]
    }
   ],
   "source": [
    "v1 = tf.Variable(0.0)\n",
    "p1 = tf.placeholder(tf.float32)\n",
    "new_val = tf.add(v1, c1)\n",
    "update = tf.assign(v1, new_val)\n",
    "\n",
    "with tf.Session() as sess:\n",
    "    sess.run(tf.global_variables_initializer())\n",
    "    for _ in range(5):\n",
    "        sess.run(update, feed_dict={p1: 1.0})\n",
    "    print(sess.run(v1))"
   ]
  },
  {
   "cell_type": "markdown",
   "metadata": {},
   "source": [
    "# Simple Linear Regression in TensorFlow\n",
    "\n",
    "This very well known model is a good way to start your exploration in TensorFlow. It is described by the following equation:\n",
    "\n",
    "$$Y = aX + b$$\n",
    "\n",
    "Where Y is the dependent and X is the independent variable.  Our task is to adjust the parameters a - \"slope\" and b - \"intercept\" so that we best describe the data using a line.\n",
    "\n",
    "For our example, let's find out how eating burgers affect your resting heart rate. The data will be simulated, so no conclusions, please! Our data represents the average number of burgers eaten per day."
   ]
  },
  {
   "cell_type": "code",
   "execution_count": 41,
   "metadata": {
    "collapsed": true
   },
   "outputs": [],
   "source": [
    "X = np.random.rand(100).astype(np.float32)"
   ]
  },
  {
   "cell_type": "markdown",
   "metadata": {},
   "source": [
    "The slope and intercept we are looking for are respectively $a = 50$ and $b = 40$."
   ]
  },
  {
   "cell_type": "code",
   "execution_count": 47,
   "metadata": {
    "collapsed": true
   },
   "outputs": [],
   "source": [
    "a = 50\n",
    "b = 40\n",
    "Y = a * X + b"
   ]
  },
  {
   "cell_type": "markdown",
   "metadata": {},
   "source": [
    "Let's have a look at what our model should figure out:"
   ]
  },
  {
   "cell_type": "code",
   "execution_count": 43,
   "metadata": {
    "collapsed": false
   },
   "outputs": [
    {
     "data": {
      "image/png": "[encoded data removed]",
      "text/plain": [
       "<matplotlib.figure.Figure at 0x1168532b0>"
      ]
     },
     "metadata": {},
     "output_type": "display_data"
    }
   ],
   "source": [
    "plt.plot(X, Y);"
   ]
  },
  {
   "cell_type": "markdown",
   "metadata": {},
   "source": [
    "Let's make things a tiny bit more interesting by adding a bit of noise to our dependent variable."
   ]
  },
  {
   "cell_type": "code",
   "execution_count": 45,
   "metadata": {
    "collapsed": true
   },
   "outputs": [],
   "source": [
    "Y = np.vectorize(lambda y: y + np.random.normal(loc=0.0, scale=0.05))(Y)"
   ]
  },
  {
   "cell_type": "code",
   "execution_count": 49,
   "metadata": {
    "collapsed": true
   },
   "outputs": [],
   "source": [
    "a_var = tf.Variable(1.0)\n",
    "b_var = tf.Variable(1.0)\n",
    "y_var = a_var * X + b_var"
   ]
  },
  {
   "cell_type": "markdown",
   "metadata": {},
   "source": [
    "Our task will be to minimize the mean squared error or in TensorFlow parlance - reduce the mean."
   ]
  },
  {
   "cell_type": "code",
   "execution_count": 50,
   "metadata": {
    "collapsed": true
   },
   "outputs": [],
   "source": [
    "loss = tf.reduce_mean(tf.square(y_var - Y))"
   ]
  },
  {
   "cell_type": "markdown",
   "metadata": {},
   "source": [
    "So, let's try to minimize it using gradient descent."
   ]
  },
  {
   "cell_type": "code",
   "execution_count": 51,
   "metadata": {
    "collapsed": true
   },
   "outputs": [],
   "source": [
    "optimizer = tf.train.GradientDescentOptimizer(0.5)\n",
    "train = optimizer.minimize(loss)"
   ]
  },
  {
   "cell_type": "markdown",
   "metadata": {},
   "source": [
    "Let's use our optimizer for `300` steps of learning"
   ]
  },
  {
   "cell_type": "code",
   "execution_count": 86,
   "metadata": {
    "collapsed": false
   },
   "outputs": [],
   "source": [
    "TRAINING_STEPS = 300\n",
    "results = []\n",
    "with tf.Session() as sess:\n",
    "    sess.run(tf.global_variables_initializer())\n",
    "    for step in range(TRAINING_STEPS):\n",
    "        results.append(sess.run([train, a_var, b_var])[1:])"
   ]
  },
  {
   "cell_type": "markdown",
   "metadata": {},
   "source": [
    "Let's get the final and best predictions for $a$ and $b$"
   ]
  },
  {
   "cell_type": "code",
   "execution_count": 102,
   "metadata": {
    "collapsed": false
   },
   "outputs": [
    {
     "name": "stdout",
     "output_type": "stream",
     "text": [
      "a: 50.0 b: 40.0\n"
     ]
    }
   ],
   "source": [
    "final_pred = results[-1]\n",
    "a_hat = final_pred[0]\n",
    "b_hat = final_pred[1]\n",
    "y_hat = a_hat * X + b_hat\n",
    "\n",
    "print(\"a:\", a_hat, \"b:\", b_hat)"
   ]
  },
  {
   "cell_type": "code",
   "execution_count": 103,
   "metadata": {
    "collapsed": false
   },
   "outputs": [
    {
     "data": {
      "image/png": "[encoded data removed]",
      "text/plain": [
       "<matplotlib.figure.Figure at 0x1164e8550>"
      ]
     },
     "metadata": {},
     "output_type": "display_data"
    }
   ],
   "source": [
    "plt.plot(X, Y);\n",
    "plt.plot(X, y_hat);"
   ]
  },
  {
   "cell_type": "markdown",
   "metadata": {},
   "source": [
    "That's a nice fit. Pretty good for a couple of lines of code."
   ]
  },
  {
   "cell_type": "markdown",
   "metadata": {},
   "source": [
    "# What we've done so far\n",
    "\n",
    "There you have it. Eating hamburgers affect your health in a bad way (probably that one is true). Most importantly, you know a bit of TensorFlow and how to do a simple linear regression. Next up - deep neural networks.\n",
    "\n",
    "# References\n",
    "\n",
    "[Getting to Know TensorFlow](https://hackernoon.com/machine-learning-with-tensorflow-8873fdee2b68#.ehj5202b0) <br/>\n",
    "[Learning TensorFlow Basics](http://learningtensorflow.com/lesson2/) <br/>\n",
    "[Deep Learning with TensorFlow](https://bigdatauniversity.com/courses/deep-learning-tensorflow/)"
   ]
  }
 ],
 "metadata": {
  "kernelspec": {
   "display_name": "Python 3",
   "language": "python",
   "name": "python3"
  },
  "language_info": {
   "codemirror_mode": {
    "name": "ipython",
    "version": 3
   },
   "file_extension": ".py",
   "mimetype": "text/x-python",
   "name": "python",
   "nbconvert_exporter": "python",
   "pygments_lexer": "ipython3",
   "version": "3.5.1"
  }
 },
 "nbformat": 4,
 "nbformat_minor": 2
}
