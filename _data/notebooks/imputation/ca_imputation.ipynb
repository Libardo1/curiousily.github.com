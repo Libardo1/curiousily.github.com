{
 "cells": [
  {
   "cell_type": "code",
   "execution_count": 41,
   "metadata": {
    "collapsed": false
   },
   "outputs": [],
   "source": [
    "library(ca)\n",
    "library(gtools)\n",
    "library(mclust)\n",
    "library(rDEA)"
   ]
  },
  {
   "cell_type": "code",
   "execution_count": 2,
   "metadata": {
    "collapsed": true
   },
   "outputs": [],
   "source": [
    "data(\"wg93\")"
   ]
  },
  {
   "cell_type": "code",
   "execution_count": 3,
   "metadata": {
    "collapsed": false
   },
   "outputs": [
    {
     "data": {
      "text/html": [
       "<table>\n",
       "<thead><tr><th scope=col>A</th><th scope=col>B</th><th scope=col>C</th><th scope=col>D</th><th scope=col>sex</th><th scope=col>age</th><th scope=col>edu</th></tr></thead>\n",
       "<tbody>\n",
       "\t<tr><td>2</td><td>3</td><td>4</td><td>3</td><td>2</td><td>2</td><td>3</td></tr>\n",
       "\t<tr><td>3</td><td>4</td><td>2</td><td>3</td><td>1</td><td>3</td><td>4</td></tr>\n",
       "\t<tr><td>2</td><td>3</td><td>2</td><td>4</td><td>2</td><td>3</td><td>2</td></tr>\n",
       "\t<tr><td>2</td><td>2</td><td>2</td><td>2</td><td>1</td><td>2</td><td>3</td></tr>\n",
       "\t<tr><td>3</td><td>3</td><td>3</td><td>3</td><td>1</td><td>5</td><td>2</td></tr>\n",
       "\t<tr><td>3</td><td>4</td><td>4</td><td>5</td><td>1</td><td>3</td><td>2</td></tr>\n",
       "</tbody>\n",
       "</table>\n"
      ],
      "text/latex": [
       "\\begin{tabular}{r|lllllll}\n",
       " A & B & C & D & sex & age & edu\\\\\n",
       "\\hline\n",
       "\t 2 & 3 & 4 & 3 & 2 & 2 & 3\\\\\n",
       "\t 3 & 4 & 2 & 3 & 1 & 3 & 4\\\\\n",
       "\t 2 & 3 & 2 & 4 & 2 & 3 & 2\\\\\n",
       "\t 2 & 2 & 2 & 2 & 1 & 2 & 3\\\\\n",
       "\t 3 & 3 & 3 & 3 & 1 & 5 & 2\\\\\n",
       "\t 3 & 4 & 4 & 5 & 1 & 3 & 2\\\\\n",
       "\\end{tabular}\n"
      ],
      "text/plain": [
       "  A B C D sex age edu\n",
       "1 2 3 4 3 2   2   3  \n",
       "2 3 4 2 3 1   3   4  \n",
       "3 2 3 2 4 2   3   2  \n",
       "4 2 2 2 2 1   2   3  \n",
       "5 3 3 3 3 1   5   2  \n",
       "6 3 4 4 5 1   3   2  "
      ]
     },
     "metadata": {},
     "output_type": "display_data"
    }
   ],
   "source": [
    "head(wg93)"
   ]
  },
  {
   "cell_type": "code",
   "execution_count": 4,
   "metadata": {
    "collapsed": true
   },
   "outputs": [],
   "source": [
    "train_idx <- sample(nrow(wg93), nrow(wg93) * 0.9, replace = FALSE)"
   ]
  },
  {
   "cell_type": "code",
   "execution_count": 5,
   "metadata": {
    "collapsed": false
   },
   "outputs": [],
   "source": [
    "train <- wg93[train_idx, ]\n",
    "test <- wg93[-train_idx, ]"
   ]
  },
  {
   "cell_type": "code",
   "execution_count": 24,
   "metadata": {
    "collapsed": true
   },
   "outputs": [],
   "source": [
    "\n",
    ".euc_dist <- function(x1, x2) {\n",
    "  return (sqrt(sum((x1 - x2) ^ 2)))\n",
    "}\n",
    "\n",
    ".round_num <- function(num) round(num, 6)\n",
    "\n",
    ".extract_cluster_data <- function(df, y, active, passives) {\n",
    "\n",
    "  # check df for > 1 dim of each variable\n",
    "\n",
    "  # Create CA table using the active and passive variables\n",
    "  t1 <- table(df[[active]], df[[y]])\n",
    "  rownames(t1) <- paste(active, rownames(t1), sep = \"_\")\n",
    "\n",
    "  t <- t1\n",
    "\n",
    "  last.sup.index <- nrow(t1) + 1\n",
    "  sup.indeces <- c()\n",
    "  # sup.level.counts <- c()\n",
    "  for(passive in passives) {\n",
    "    t.passive <- table(df[[passive]], df[[y]])\n",
    "    rownames(t.passive) <- paste(passive, rownames(t.passive), sep = \"_\")\n",
    "    sup.indeces <- c(sup.indeces, last.sup.index)\n",
    "    t <- rbind(t, t.passive)\n",
    "    last.sup.index <- last.sup.index + nrow(t.passive)\n",
    "  }\n",
    "\n",
    "  fit <- ca(t, suprow = c((nrow(t1) + 1):nrow(t)), nd=nrow(t))\n",
    "\n",
    "  sup.rows <- fit$rowsup\n",
    "  active.rows <- setdiff(c(1:nrow(t)), sup.rows)\n",
    "\n",
    "  # print(sup.level.counts)\n",
    "\n",
    "  passive_levels <- list()\n",
    "  i <- 1\n",
    "  for(p in passives) {\n",
    "    # print(length(levels(wg93[[p]])))\n",
    "    passive_levels[[i]] <- c(1:length(levels(df[[p]])))\n",
    "    i <- i + 1\n",
    "  }\n",
    "\n",
    "  passive.perms <- expand.grid(passive_levels)\n",
    "\n",
    "  # measure the distance from each level of the predicted variable to each passive/activate variable level\n",
    "\n",
    "  rows <- c()\n",
    "  coord.names <- c()\n",
    "  levels <- c()\n",
    "  for(i in 1:nrow(fit$colcoord)) {\n",
    "    for(j in active.rows) {\n",
    "\n",
    "      active.col.coords <- fit$colcoord[i, ]\n",
    "      active.col.level <- colnames(t)[i]\n",
    "      active.row.coords <- fit$rowcoord[j, ]\n",
    "      active.row.level <- rownames(t)[j]\n",
    "      x <- .euc_dist(active.col.coords, active.row.coords)\n",
    "\n",
    "      for(k in 1:nrow(passive.perms)) {\n",
    "        sup.row.dists <- c()\n",
    "        sup.row.names <- c()\n",
    "        sup.row.levels <- c()\n",
    "        for(p in 1:ncol(passive.perms)) {\n",
    "          name <- passive.perms[k, p]\n",
    "          sup.row.idx <- sup.indeces[p] + name - 1\n",
    "          sup.row.coords <- fit$rowcoord[sup.row.idx, ]\n",
    "          sup.row.dist <- .euc_dist(active.col.coords, sup.row.coords)\n",
    "          sup.row.dists <- c(sup.row.dists, sup.row.dist)\n",
    "          sup.row.names <- c(sup.row.names, name)\n",
    "          sup.row.levels <- c(sup.row.levels, rownames(t)[sup.row.idx])\n",
    "        }\n",
    "        coord.names <- rbind(coord.names, paste(i, j, paste(sup.row.names, collapse = \"_\"), sep = \"_\"))\n",
    "        mean.dist <- mean(c(x, sup.row.dists))\n",
    "        rows <- rbind(rows, c(x, sup.row.dists, mean.dist))\n",
    "        levels <- rbind(levels, c(active.col.level, active.row.level, sup.row.levels))\n",
    "      }\n",
    "    }\n",
    "  }\n",
    "  rownames(rows) <- coord.names\n",
    "  rownames(levels) <- coord.names\n",
    "\n",
    "  return(list(data=rows, levels=levels, ca=fit, data.table=t))\n",
    "}"
   ]
  },
  {
   "cell_type": "code",
   "execution_count": 7,
   "metadata": {
    "collapsed": true
   },
   "outputs": [],
   "source": [
    ".cluster_data <- function(data) {\n",
    "  clustered_data <- Mclust(as.matrix(data), G=1:20)\n",
    "  return(list(n_cluster=clustered_data$G, classification=clustered_data$classification))\n",
    "}"
   ]
  },
  {
   "cell_type": "code",
   "execution_count": 8,
   "metadata": {
    "collapsed": true
   },
   "outputs": [],
   "source": [
    ".should_use_passive_variable <- function(fit, start, level_count,\n",
    "                                              first_active_coordinates,\n",
    "                                              second_active_coordinates, lambda) {\n",
    "\n",
    "  has_close_level <- function(x, y, lambda) {\n",
    "    for(i in 1:nrow(x)) {\n",
    "      if(.euc_dist(x[i , ], y) < lambda) {\n",
    "        return(TRUE)\n",
    "      }\n",
    "    }\n",
    "    return(FALSE)\n",
    "  }\n",
    "\n",
    "  for(level in 1:level_count) {\n",
    "    level_coordinates <- fit$rowcoord[start + level, ]\n",
    "\n",
    "    close_to_first <- has_close_level(first_active_coordinates, level_coordinates, lambda)\n",
    "\n",
    "    if(close_to_first) {\n",
    "      close_to_second <- has_close_level(second_active_coordinates, level_coordinates, lambda)\n",
    "\n",
    "      if(close_to_second) {\n",
    "        return(TRUE)\n",
    "      }\n",
    "    }\n",
    "  }\n",
    "  return(FALSE)\n",
    "}\n",
    "\n",
    ".choose_passive_variables <- function(df, y, second_active, lambda) {\n",
    "  candidates <- colnames(df)\n",
    "  passives <- candidates[which(candidates != y & candidates != second_active)]\n",
    "  #\n",
    "  t1 <- table(df[[second_active]], df[[y]])\n",
    "  t <- t1\n",
    "  for (p in passives) {\n",
    "    t <- rbind(t, table(df[[p]], df[[y]]))\n",
    "  }\n",
    "  fit <- ca(t, suprow = c((nrow(t1) + 1):nrow(t)))\n",
    "  # plot.ca(fit, mass = c(TRUE, TRUE), contrib = \"absolute\", map = \"rowgreen\")\n",
    "\n",
    "  first_active_coordinates <- fit$colcoord\n",
    "  second_active_coordinates <- fit$rowcoord[1:nrow(t1),]\n",
    "\n",
    "  start <- nrow(t1)\n",
    "  passives_to_use <- c()\n",
    "  for(p in passives) {\n",
    "    level_count <- length(levels(df[[p]]))\n",
    "    if(.should_use_passive_variable(fit, start, level_count,\n",
    "                                    first_active_coordinates,\n",
    "                                    second_active_coordinates, lambda)) {\n",
    "      passives_to_use <- c(passives_to_use, p)\n",
    "    }\n",
    "    start <- start + level_count\n",
    "  }\n",
    "\n",
    "  return(passives_to_use)\n",
    "}\n",
    "\n",
    ".choose_active_variables <- function(df, y, lambda) {\n",
    "\n",
    "  actives <- c()\n",
    "  should_choose_active <- function(fit) {\n",
    "    for(i in 1:nrow(fit$rowcoord)) {\n",
    "      for(j in 1:nrow(fit$colcoord)) {\n",
    "        if(.euc_dist(fit$rowcoord[i, ], fit$colcoord[j, ]) < lambda) {\n",
    "          return(TRUE)\n",
    "        }\n",
    "      }\n",
    "    }\n",
    "    return(FALSE)\n",
    "  }\n",
    "\n",
    "  df_columns <- colnames(df)\n",
    "  candidates <- df_columns[which(df_columns != y)]\n",
    "  for(candidate in candidates) {\n",
    "    fit <- ca(table(df[[y]], df[[candidate]]))\n",
    "    if(should_choose_active(fit)) {\n",
    "      actives <- c(actives, candidate)\n",
    "    }\n",
    "  }\n",
    "  return(actives)\n",
    "}"
   ]
  },
  {
   "cell_type": "code",
   "execution_count": 1,
   "metadata": {
    "collapsed": true
   },
   "outputs": [],
   "source": [
    ".apply_dea <- function(cluster.fit, cluster.data, cluster.levels, output.file = \"cluster_table.csv\", lambda = 1.7) {\n",
    "\n",
    "  cluster.df <- data.frame()\n",
    "  mean.dist.col <- ncol(cluster.data)\n",
    "  passive.dist.cols <- c(2:(mean.dist.col - 1))\n",
    "  for(cluster in 1:cluster.fit$n_cluster) {\n",
    "    cluster.points <- cluster.data[cluster.fit$classification == cluster,]\n",
    "    levels <- cluster.levels[rownames(cluster.points), ]\n",
    "    dist1 <- cluster.points[, 1]\n",
    "    dist1.indicator <- sapply(dist1, function(x) {if(x < lambda) 1 else 0})\n",
    "    dist.indicator <- dist1.indicator\n",
    "\n",
    "    if(nrow(cluster.points) > 0) {\n",
    "      new.df <- data.frame(\n",
    "        cluster = cluster,\n",
    "        name = rownames(cluster.points),\n",
    "        dist1 = .round_num(dist1),\n",
    "        dist1.indicator = dist1.indicator,\n",
    "        dist.mean = .round_num(cluster.points[, mean.dist.col]),\n",
    "        cluster.mean = .round_num(mean(colMeans(cluster.points))),\n",
    "        cluster.dist1.var = .round_num(var(cluster.points[, 1])),\n",
    "        active1.level = levels[, 1],\n",
    "        active2.level = levels[, 2]\n",
    "      )\n",
    "\n",
    "      for(c in passive.dist.cols) {\n",
    "        p.dist <- cluster.points[, c]\n",
    "        p.dist.indicator <- sapply(p.dist, function(x) {if(x < lambda) 1 else 0})\n",
    "        dist.indicator <- dist.indicator + p.dist.indicator\n",
    "        new.df[paste(\"dist\", c, sep = \"\")] <- .round_num(p.dist)\n",
    "        new.df[paste(\"dist\", c, \".indicator\", sep = \"\")] <- p.dist.indicator\n",
    "        new.df[paste(\"cluster.dist\", c, \".var\", sep = \"\")] <- .round_num(var(cluster.points[, c]))\n",
    "        new.df[paste(\"passive\", (c - 1), \".level\", sep = \"\")] <- levels[, c + 1]\n",
    "      }\n",
    "\n",
    "      new.df[\"dist.indicator\"] <- dist.indicator\n",
    "\n",
    "      cluster.df <- rbind(cluster.df, new.df)\n",
    "    }\n",
    "  }\n",
    "\n",
    "  dist.cols <- c(\"dist1\")\n",
    "  for(c in passive.dist.cols) {\n",
    "    dist.cols <- c(dist.cols, paste(\"dist\", c, sep = \"\"))\n",
    "  }\n",
    "\n",
    "  write.csv(cluster.df, quote = F, file = output.file, row.names = F)\n",
    "  return(cluster.df)\n",
    "}"
   ]
  },
  {
   "cell_type": "code",
   "execution_count": 9,
   "metadata": {
    "collapsed": true
   },
   "outputs": [],
   "source": [
    "do_impute <- function(train, test, y, lambda = 1.7) {\n",
    "\n",
    "  second_actives <- .choose_active_variables(train, y, lambda)\n",
    "  for(second_active in second_actives) {\n",
    "    if(second_active != \"sex\") {\n",
    "      passives <- .choose_passive_variables(train, y, second_active, lambda)\n",
    "      if(!is.null(passives)) {\n",
    "        cluster_result <- .extract_cluster_data(train, y, second_active, passives)\n",
    "        cluster.data <- cluster_result$data\n",
    "        cluster.levels <- cluster_result$levels\n",
    "        cluster.df <- .apply_dea(.cluster_data(cluster.data[, -1]), cluster.data, cluster.levels,\n",
    "                                                  output.file = paste(\"results/\", paste(\"wg93_\", y, \"_\", second_active,  \".csv\", sep = \"\"), sep = \"\"),\n",
    "                                                  lambda = lambda)\n",
    "      }\n",
    "    }\n",
    "  }\n",
    "}"
   ]
  },
  {
   "cell_type": "code",
   "execution_count": 10,
   "metadata": {
    "collapsed": true
   },
   "outputs": [],
   "source": [
    "lambda <- 6.0\n",
    "\n",
    "predictions <- do_impute(train, test, y = \"A\", lambda=lambda)\n",
    "\n",
    "print(sprintf(\"accuracy %.2f\", predictions$accuracy))\n",
    "print(sprintf(\"predicted %.2f\", predictions$predicted))\n",
    "print(sprintf(\"correct %.2f\", predictions$correct))"
   ]
  }
 ],
 "metadata": {
  "kernelspec": {
   "display_name": "R",
   "language": "R",
   "name": "ir"
  },
  "language_info": {
   "codemirror_mode": "r",
   "file_extension": ".r",
   "mimetype": "text/x-r-source",
   "name": "R",
   "pygments_lexer": "r",
   "version": "3.3.0"
  }
 },
 "nbformat": 4,
 "nbformat_minor": 1
}
